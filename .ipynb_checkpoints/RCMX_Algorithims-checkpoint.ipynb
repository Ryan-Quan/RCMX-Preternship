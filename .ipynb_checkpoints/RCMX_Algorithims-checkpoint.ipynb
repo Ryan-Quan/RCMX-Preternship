{
 "cells": [
  {
   "cell_type": "code",
   "execution_count": 1,
   "metadata": {},
   "outputs": [],
   "source": [
    "import mplfinance as mpf\n",
    "import pandas as pd\n",
    "from alpha_vantage.timeseries import TimeSeries\n",
    "import matplotlib.pyplot as plt\n",
    "import numpy as np\n",
    "import random"
   ]
  },
  {
   "cell_type": "code",
   "execution_count": 2,
   "metadata": {},
   "outputs": [],
   "source": [
    "my_file = open('API_KEYS.txt',\"r\")\n",
    "API_keys = my_file.read().split()"
   ]
  },
  {
   "cell_type": "code",
   "execution_count": 3,
   "metadata": {},
   "outputs": [],
   "source": [
    "# Runs through stock data and calls strategies and graphs\n",
    "def algorithims(ticker,cash):\n",
    "    # Loads in dataframe and renames columns\n",
    "    API_key = API_keys[random.randint(0,8)]\n",
    "    time = TimeSeries(key = API_key,output_format='pandas')\n",
    "    data = time.get_intraday(symbol=ticker,interval='1min',outputsize='full')[0].rename(columns={\"1. open\":\"Open\",\"2. high\":\"High\",\"3. low\":\"Low\",\"4. close\":\"Close\",\"5. volume\":\"Volume\"})\n",
    "    \n",
    "    # Splits dataframe into a list of dataframes of each day\n",
    "    days = [group[1] for group in data.groupby(data.index.day)]\n",
    "    num_days = len(days)\n",
    "    \n",
    "    # Initialize returns for strategies\n",
    "    strategy1_returns = np.empty(0)\n",
    "    strategy2_returns = np.empty(0)\n",
    "    strategy3_returns = np.empty(0)\n",
    "    market_returns = np.empty(0)\n",
    "    \n",
    "    # Loops through dataframes and performs strategies and graphs\n",
    "    for df in days:\n",
    "        # Limits data to only during trading hours\n",
    "        df = df.loc[(df.index >= f'{df.index.date[0]} 9:30:00')]\n",
    "        df = df.loc[(df.index >= f'{df.index.date[0]} 4:00:00')]\n",
    "        \n",
    "        # Aggregates one minutes \n",
    "        df = df.resample('5T').agg({'Open':'first','High':'max','Low':'min','Close':'last','Volume':'sum'})\n",
    "        \n",
    "        # Add calculated columns for desired indicators \n",
    "        df['VWAP'] = (((df['High']+df['Low']+df['Close'])*df['Volume']/3).cumsum())/df['Volume'].cumsum() \n",
    "        df = df.dropna()\n",
    "        \n",
    "        # Plot indicators and price\n",
    "        #vwap = mpf.make_addplot(df['VWAP'])\n",
    "        #mpf.plot(df,addplot=vwap,type='candle',style='yahoo',volume=True,title=f\"{df.index.date[0]} {ticker} VWAP\")\n",
    "        \n",
    "        # Run strategies and add up returns using numpy arrays\n",
    "        strategy1_returns = np.append(strategy1_returns,strategy1(df,ticker,cash/num_days))\n",
    "        strategy2_returns = np.append(strategy2_returns,strategy2(df,ticker,cash/num_days))\n",
    "        strategy3_returns = np.append(strategy3_returns,strategy3(df,ticker,cash/num_days))\n",
    "        market_returns = np.append(market_returns,market(df,ticker,cash/num_days))\n",
    "        \n",
    "    returns = np.array([strategy1_returns,strategy2_returns,strategy3_returns,market_returns])\n",
    "    return returns "
   ]
  },
  {
   "cell_type": "code",
   "execution_count": 4,
   "metadata": {},
   "outputs": [],
   "source": [
    "# VWAP Cross:\n",
    "# Long when price crosses above VWAP and short when VWAP goes below\n",
    "def strategy1(df,ticker,cash):\n",
    "    # Prints which day this is\n",
    "    date = df.index.date[0]\n",
    "    #print(f'{date}: Starting VWAP Cross strategy with ${cash} USD')\n",
    "    \n",
    "    # Initialize variables\n",
    "    i = 0\n",
    "    cash0 = cash\n",
    "    shares = 0\n",
    "    shorts = 0\n",
    "    transactions = 0\n",
    "    for index,row in df.iterrows():\n",
    "        if (not i): \n",
    "            # sets initial position based on inital VWAP and price\n",
    "            long = row['VWAP'] < row['Close'] \n",
    "            short = not long\n",
    "            transactions += 1\n",
    "            i += 1\n",
    "            if long:\n",
    "                shares = cash/row['Close']\n",
    "                cash = 0\n",
    "                #print(f\"{index.time()}: Buy {shares:.3f} {ticker} shares at {row['Close']} per share\")\n",
    "            if short:\n",
    "                shorts = cash/row['Close']\n",
    "                cash = cash0*2\n",
    "                #print(f\"{index.time()}: Open {shorts:.3f} {ticker} short contracts at {row['Close']} per contract\")\n",
    "        \n",
    "        # Long position \n",
    "        if ((row['VWAP'] < row['Close']) and (row['VWAP'] < row['Close']) and short):\n",
    "            #print(f\"{index.time()}: Close {shorts:.3f} {ticker} short contracts at {row['Close']} per contract\")\n",
    "            cash -= shorts*row['Close']\n",
    "            shares = cash/row['Close']\n",
    "            shorts = 0\n",
    "            long = True   \n",
    "            short = not long\n",
    "            #print(f\"{index.time()}: Buy {shares:.3f} {ticker} shares at {row['Close']} per share\")\n",
    "            transactions += 2\n",
    "        # Short position\n",
    "        if ((row['VWAP'] > row['Close']) and (row['VWAP'] > row['Close']) and long):\n",
    "            #print(f\"{index.time()}: Sell {shares:.3f} {ticker} shares at {row['Close']} per share\")\n",
    "            cash = shares*row['Close']*2\n",
    "            shorts = shares\n",
    "            shares = 0       \n",
    "            short = True\n",
    "            long = not short\n",
    "            #print(f\"{index.time()}: Open {shorts:.3f} {ticker} short contracts at {row['Close']} per contract\")\n",
    "            transactions += 2\n",
    "        price = row['Close']\n",
    "    # Exit position and calculate returns\n",
    "    if short: \n",
    "        #print(f\"{index.time()}: Close {shorts:.3f} {ticker} short contracts at {price} per contract\")\n",
    "        cash -= shorts*price\n",
    "    if long:\n",
    "        #print(f\"{index.time()}: Sell {shares:.3f} {ticker} shares at {row['Close']} per share\")\n",
    "        cash = shares*price\n",
    "    transactions += 1\n",
    "    #print(f'Cash: {cash}')\n",
    "    returns = (cash - cash0)/cash0\n",
    "    #print(f'Return: {returns*100:.2f}%')\n",
    "    #print(f'Transactions: {transactions}')\n",
    "    #print('-'*70)\n",
    "    return cash"
   ]
  },
  {
   "cell_type": "code",
   "execution_count": 5,
   "metadata": {},
   "outputs": [],
   "source": [
    "# VWAP Mean Reversion: \n",
    "# Long at troughs and short at peaks with assumption that price will return to VWAP\n",
    "def strategy2(df,ticker,cash):\n",
    "    return cash"
   ]
  },
  {
   "cell_type": "code",
   "execution_count": 6,
   "metadata": {},
   "outputs": [],
   "source": [
    "# TWAP\n",
    "def strategy3(df,ticker,cash):\n",
    "    return cash"
   ]
  },
  {
   "cell_type": "code",
   "execution_count": 7,
   "metadata": {},
   "outputs": [],
   "source": [
    "def market(df,ticker,cash):\n",
    "    open_price = df['Open'].loc[f'{df.index.date[0]} 9:30:00']\n",
    "    shares = cash/open_price\n",
    "    close_price = df['Close'].loc[f'{df.index.date[0]} 16:00:00']\n",
    "    return shares*close_price"
   ]
  },
  {
   "cell_type": "code",
   "execution_count": 8,
   "metadata": {},
   "outputs": [],
   "source": [
    "def print_stock_returns(ticker,returns,cash_per_stock):\n",
    "    print(ticker)\n",
    "    for i in range(0,3):\n",
    "        print(f'Strategy {i+1}: {(np.sum(returns[i]) - cash_per_stock)*100/cash_per_stock:.3f}%')\n",
    "    print(f'Market: {(np.sum(returns[-1]) - cash_per_stock)*100/cash_per_stock:.3f}%')\n",
    "    print('-'*50)"
   ]
  },
  {
   "cell_type": "code",
   "execution_count": 9,
   "metadata": {},
   "outputs": [],
   "source": [
    "def print_summary_returns(all_returns,cash):\n",
    "    print(all_returns)"
   ]
  },
  {
   "cell_type": "code",
   "execution_count": 10,
   "metadata": {},
   "outputs": [],
   "source": [
    "# Runs through strategies with list of stocks\n",
    "def main(stocks,cash):\n",
    "    returns = np.empty((0,0))\n",
    "    cash_per_stock = cash/len(stocks)\n",
    "    for ticker in stocks:\n",
    "        returns = algorithims(ticker,cash_per_stock)\n",
    "        #all_returns = np.append(all_returns,returns,axis=0)\n",
    "        print_stock_returns(ticker,returns,cash_per_stock)\n",
    "    #print_summary_returns(all_returns,cash)\n",
    "    return #all_returns"
   ]
  },
  {
   "cell_type": "code",
   "execution_count": 11,
   "metadata": {
    "scrolled": false
   },
   "outputs": [
    {
     "name": "stdout",
     "output_type": "stream",
     "text": [
      "AAPL\n",
      "Strategy 1: 0.527%\n",
      "Strategy 2: 0.000%\n",
      "Strategy 3: 0.000%\n",
      "Market: -0.487%\n",
      "--------------------------------------------------\n",
      "GME\n",
      "Strategy 1: 1.484%\n",
      "Strategy 2: 0.000%\n",
      "Strategy 3: 0.000%\n",
      "Market: -0.504%\n",
      "--------------------------------------------------\n"
     ]
    }
   ],
   "source": [
    "stocks = ['AAPL','GME']\n",
    "cash = 1100\n",
    "all_returns = main(stocks,cash)"
   ]
  }
 ],
 "metadata": {
  "kernelspec": {
   "display_name": "Python 3",
   "language": "python",
   "name": "python3"
  },
  "language_info": {
   "codemirror_mode": {
    "name": "ipython",
    "version": 3
   },
   "file_extension": ".py",
   "mimetype": "text/x-python",
   "name": "python",
   "nbconvert_exporter": "python",
   "pygments_lexer": "ipython3",
   "version": "3.7.6"
  }
 },
 "nbformat": 4,
 "nbformat_minor": 4
}
